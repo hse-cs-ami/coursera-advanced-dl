{
 "cells": [
  {
   "cell_type": "markdown",
   "metadata": {
    "id": "LPhDIeybZod_"
   },
   "source": [
    "# Обучение GAN на MNIST\n",
    "\n",
    "В этом задании вам предстоит [обучить генератор и дискриминатор](https://arxiv.org/abs/1406.2661) на датасете MNIST."
   ]
  },
  {
   "cell_type": "markdown",
   "metadata": {
    "id": "k4N3CRpNZoeB"
   },
   "source": [
    "## Настройка google colab\n",
    "\n",
    "Для корректной работы ноутбука и отправки заданий в тестирующую систему запустите следующие две ячейки (до начала работы)."
   ]
  },
  {
   "cell_type": "code",
   "execution_count": null,
   "metadata": {
    "id": "_Q9uRxlHZoeC",
    "pycharm": {
     "name": "#%%\n"
    }
   },
   "outputs": [],
   "source": [
    "%%bash\n",
    "\n",
    "rm colab_setup.py\n",
    "\n",
    "wget -q https://raw.githubusercontent.com/hse-cs-ami/coursera-advanced-dl/main/utils/colab_setup.py -O colab_setup.py"
   ]
  },
  {
   "cell_type": "code",
   "execution_count": null,
   "metadata": {
    "id": "yzScgH6LZoeD",
    "pycharm": {
     "name": "#%%\n"
    }
   },
   "outputs": [],
   "source": [
    "import colab_setup\n",
    "\n",
    "colab_setup.Week02GAN().setup()"
   ]
  },
  {
   "cell_type": "code",
   "execution_count": null,
   "metadata": {
    "id": "N8YF7EvEZoeD"
   },
   "outputs": [],
   "source": [
    "from testing import TestWeek02\n",
    "\n",
    "\n",
    "tester = TestWeek02()\n",
    "\n",
    "tester.set_email('### YOUR EMAIL ###')\n",
    "tester.set_token('### YOUR TOKEN ###')"
   ]
  },
  {
   "cell_type": "markdown",
   "metadata": {
    "id": "X7vdNsEXZoeD"
   },
   "source": [
    "## Необходимые импорты"
   ]
  },
  {
   "cell_type": "code",
   "execution_count": null,
   "metadata": {
    "id": "eARPBIzvZoeD"
   },
   "outputs": [],
   "source": [
    "from collections import defaultdict\n",
    "from time import perf_counter\n",
    "from warnings import filterwarnings\n",
    "from torchvision.utils import make_grid\n",
    "import matplotlib.pyplot as plt\n",
    "import seaborn as sns\n",
    "import torch\n",
    "import torch.nn as nn\n",
    "import torchvision.transforms as t\n",
    "from IPython.display import clear_output\n",
    "from torch.optim import Adam\n",
    "from torch.utils.data import DataLoader\n",
    "from torchvision.datasets import MNIST\n",
    "from tqdm import tqdm\n",
    "\n",
    "\n",
    "filterwarnings('ignore')\n",
    "\n",
    "sns.set(style='darkgrid')"
   ]
  },
  {
   "cell_type": "markdown",
   "metadata": {
    "id": "Ar2nzNAbZoeE"
   },
   "source": [
    "# Необходимые константы\n",
    "\n",
    "В этом задании вы будете работать с изображениями из набора данных MNIST, они имеют размер 28 на 28 пикселей.\n",
    "\n",
    "В качестве гиперпараметра генератора мы будем использовать число 128 - размерность вектора шума, который генератор будет получать на вход."
   ]
  },
  {
   "cell_type": "code",
   "execution_count": null,
   "metadata": {
    "id": "KJUyamSgZoeE"
   },
   "outputs": [],
   "source": [
    "IMAGE_SIZE = 28\n",
    "NOISE_DIMENSION = 128"
   ]
  },
  {
   "cell_type": "markdown",
   "metadata": {
    "id": "-KlBOSTiZoeF"
   },
   "source": [
    "## Генератор\n",
    "\n",
    "Заполните пропуски в коде, чтобы получился рабочий класс модели Генератора.\n",
    "\n",
    "Ваш Генератор должен иметь следующую архитектуру:\n",
    "\n",
    " - Линейный слой (входной) с размерностью входа равной размерности шума, выхода `N`\n",
    " - Функция активации `LeakyReLU`\n",
    " \n",
    " - Линейный слой с размерностью входа `N`, выхода `2N`\n",
    " - Функция активации `LeakyReLU`\n",
    " \n",
    " - Линейный слой с размерностью входа `2N`, выхода `4N`\n",
    " - Функция активации `LeakyReLU`\n",
    " \n",
    " - Линейный слой с размерностью входа `4N`, выхода `размер изображения` x `размер изображения`\n",
    " - Функция активации `Tanh`\n",
    " \n",
    "`N` является гиперпараметром архитектуры и задается в конструкторе аргументом `baze_d`.\n",
    "\n",
    "Обратите внимание, что на выходе Генератор должен возвращать изображение (то есть тензор размерности `(BC, 1, 28, 28)`, где `BC` это размер батча)."
   ]
  },
  {
   "cell_type": "code",
   "execution_count": null,
   "metadata": {
    "id": "qNq-d-I-ZoeF"
   },
   "outputs": [],
   "source": [
    "class Generator(nn.Module):\n",
    "    def __init__(self, baze_d: int = 256):\n",
    "        super().__init__()\n",
    "        \n",
    "        self.layers = ### Ваш код\n",
    "\n",
    "    def forward(self, x):\n",
    "        return self.layers(x).view(-1, 1, IMAGE_SIZE, IMAGE_SIZE)"
   ]
  },
  {
   "cell_type": "code",
   "execution_count": null,
   "metadata": {
    "id": "QWeSt6SRZoeG"
   },
   "outputs": [],
   "source": [
    "# тестируем то, как вы написали класс генератора\n",
    "tester.set_email('### YOUR EMAIL ###')\n",
    "tester.set_token('### YOUR TOKEN ###')\n",
    "\n",
    "tester.test01(Generator)"
   ]
  },
  {
   "cell_type": "markdown",
   "metadata": {
    "id": "40f3KkvpZoeG"
   },
   "source": [
    "## Дискриминатор\n",
    "\n",
    "Заполните пропуски в коде, чтобы получился рабочий класс модели Дискриминатора.\n",
    "\n",
    "Ваш Дискриминатор должен иметь следующую архитектуру:\n",
    "\n",
    " - Линейный слой (входной) с размерностью входа `размер изображения` x `размер изображения`, выхода `4N`\n",
    " - Функция активации `LeakyReLU`\n",
    " \n",
    " - Линейный слой с размерностью входа `4N`, выхода `2N`\n",
    " - Функция активации `LeakyReLU`\n",
    " \n",
    " - Линейный слой с размерностью входа `2N`, выхода `N`\n",
    " - Функция активации `LeakyReLU`\n",
    " \n",
    " - Линейный слой с размерностью входа `N`, выхода `1`\n",
    " - Функция активации `Sigmoid`\n",
    " \n",
    "`N` является гиперпараметром архитектуры и задается в конструкторе аргументом `baze_d`.\n",
    "\n",
    "Обратите внимание, что на входе Дискриминатор получает изображение (то есть тензор размерности `(BC, 1, 28, 28)`, где `BC` это размер батча), а линейный слой ожидает увидеть вектор (то есть тензор размерности `(BC, 28 x 28)`)."
   ]
  },
  {
   "cell_type": "code",
   "execution_count": null,
   "metadata": {
    "id": "qIq44dSHZoeG"
   },
   "outputs": [],
   "source": [
    "class Discriminator(nn.Module):\n",
    "    def __init__(self, base_d: int = 256):\n",
    "        super().__init__()\n",
    "\n",
    "        self.layers = ### Ваш код\n",
    "\n",
    "    def forward(self, x):\n",
    "        return self.layers(x.view(-1, 784))"
   ]
  },
  {
   "cell_type": "code",
   "execution_count": null,
   "metadata": {
    "id": "AzfLfOE3ZoeH"
   },
   "outputs": [],
   "source": [
    "# тестируем то, как вы написали класс дискриминатора\n",
    "tester.set_email('### YOUR EMAIL ###')\n",
    "tester.set_token('### YOUR TOKEN ###')\n",
    "\n",
    "tester.test02(Discriminator)"
   ]
  },
  {
   "cell_type": "markdown",
   "metadata": {
    "id": "LAqNBsh8ZoeH"
   },
   "source": [
    "## Оболочка\n",
    "\n",
    "Заполните пропуски в коде, чтобы получился рабочий класс оболочки.\n",
    "\n",
    "Вам нужно заполнить пропуски в функциях `update_generator` и `update_discriminator`.\n",
    "\n",
    "Каждая из этих функций должна считать ошибку для соответствующей модели и запускать проход назад.\n",
    "\n",
    "В функции `update_generator` вам нужно посчитать ошибку для Генератора: Генератор должен обмануть Дискриминатор, то есть\n",
    "\n",
    "$$Loss\\left(D\\left(G\\left(Noise\\right)\\right), 1\\right).$$\n",
    "\n",
    "В функции `update_discriminator` вам нужно посчитать ошибку для Дискриминатора: Дискриминатор должен распознать выход Генератора и реальные данные:\n",
    "\n",
    "$$Loss\\left(D\\left(G\\left(Noise\\right)\\right), 0\\right) + Loss\\left(D\\left(Images\\right), 1\\right).$$"
   ]
  },
  {
   "cell_type": "code",
   "execution_count": null,
   "metadata": {
    "id": "rtb2hMMaZoeH"
   },
   "outputs": [],
   "source": [
    "def make_noise(bs, device, n_features=NOISE_DIMENSION):\n",
    "    return torch.randn(bs, n_features).to(device)\n",
    "\n",
    "def make_ones(bs, device):\n",
    "    return torch.ones(bs, 1).to(device)\n",
    "\n",
    "def make_zeros(bs, device):\n",
    "    return torch.zeros(bs, 1).to(device)"
   ]
  },
  {
   "cell_type": "code",
   "execution_count": null,
   "metadata": {
    "id": "OlUpu6I6ZoeH"
   },
   "outputs": [],
   "source": [
    "class Wrapper:\n",
    "\n",
    "    def __init__(self) -> None:\n",
    "\n",
    "        transform: t.Compose = t.Compose(\n",
    "            [\n",
    "                t.ToTensor(),\n",
    "                t.Normalize((0.5), (0.5))\n",
    "            ]\n",
    "        )\n",
    "\n",
    "        dataset = MNIST(root='./data', train=True, download=True, transform=transform)\n",
    "\n",
    "        batch_size = 64\n",
    "\n",
    "        self.loader: DataLoader = DataLoader(dataset, shuffle=True, batch_size=batch_size, num_workers=2)\n",
    "\n",
    "        self.device: torch.device = torch.device('cuda:0' if torch.cuda.is_available() else 'cpu')\n",
    "\n",
    "        self.generator = Generator().to(self.device)\n",
    "        self.discriminator = Discriminator().to(self.device)\n",
    "\n",
    "        self.optimizer_generator = Adam(self.generator.parameters(), lr=1e-4)\n",
    "        self.optimizer_discriminator = Adam(self.discriminator.parameters(), lr=1e-4)\n",
    "        \n",
    "        self.loss = nn.BCELoss()\n",
    "\n",
    "        self.history = defaultdict(list)\n",
    "        \n",
    "        self.test_noise = make_noise(100, self.device)\n",
    "\n",
    "    def run(self, epochs: int = 100):\n",
    "        total_time = 0\n",
    "\n",
    "        for epoch in range(epochs):\n",
    "            # генерируем картинку из шума\n",
    "            self.image()\n",
    "            \n",
    "            # строим графики\n",
    "            self.plot_stats(epochs)\n",
    "\n",
    "            # обучаемся\n",
    "            start = perf_counter()\n",
    "            self.train_epoch()\n",
    "            total_time += perf_counter() - start\n",
    "\n",
    "        # строим финальные графики и печатаем сколько заняло обучение\n",
    "        self.plot_stats(epochs)\n",
    "        print(f'Время на обучение: {total_time:.2f} секунд')\n",
    "\n",
    "    def train_epoch(self) -> None:\n",
    "        self.generator.train()\n",
    "        self.discriminator.train()\n",
    "        \n",
    "        g_loss = 0\n",
    "        d_loss = 0\n",
    "\n",
    "        for images, _ in tqdm(self.loader, desc='Обучение'):\n",
    "            images = images.to(self.device)\n",
    "            \n",
    "            self.set_grad('discriminator', True)\n",
    "            self.set_grad('generator', False)\n",
    "            \n",
    "            self.optimizer_discriminator.zero_grad()\n",
    "            d_loss += self.update_discriminator(images)\n",
    "            self.optimizer_discriminator.step()\n",
    "            \n",
    "            self.set_grad('generator', True)\n",
    "            self.set_grad('discriminator', False)\n",
    "            \n",
    "            self.optimizer_generator.zero_grad()\n",
    "            g_loss += self.update_generator(images.size(0))\n",
    "            self.optimizer_generator.step()\n",
    "            \n",
    "        self.history['generator_loss'].append(g_loss / len(self.loader))\n",
    "        self.history['discriminator_loss'].append(d_loss / len(self.loader))\n",
    "    \n",
    "    def update_generator(self, bs):\n",
    "        loss = ### Ваш код\n",
    "        \n",
    "        loss.backward()\n",
    "        \n",
    "        return loss.item()\n",
    "        \n",
    "    def update_discriminator(self, real_data):\n",
    "        fake_data = ### Ваш код (используйте .detach())\n",
    "\n",
    "        real_loss = ### Ваш код\n",
    "        fake_loss = ### Ваш код\n",
    "        \n",
    "        loss = real_loss + fake_loss\n",
    "        \n",
    "        loss.backward()\n",
    "\n",
    "        return loss.item()\n",
    "    \n",
    "    def set_grad(self, name: str, requires_grad: bool) -> None:\n",
    "        if name == 'discriminator':\n",
    "            for param in self.discriminator.parameters():\n",
    "                param.requires_grad = requires_grad\n",
    "        elif name == 'generator':\n",
    "            for param in self.generator.parameters():\n",
    "                param.requires_grad = requires_grad\n",
    "        else:\n",
    "            raise ValueError(f'Incorrect name {name}')\n",
    "\n",
    "    @torch.inference_mode()    \n",
    "    def image(self):\n",
    "        self.history['images'].append(\n",
    "            (make_grid(\n",
    "                self.generator(self.test_noise).cpu(),\n",
    "                nrow=10,\n",
    "                pad_value=255\n",
    "            ).numpy().transpose(1,2,0) * 255).astype('uint8')\n",
    "        )\n",
    "    \n",
    "    def plot_stats(self, epochs) -> None:\n",
    "        clear_output(wait=True)\n",
    "\n",
    "        plt.figure(figsize=(10, 10))\n",
    "        \n",
    "        plt.title('Ошибка моделей в зависимости от номера эпохи')\n",
    "        plt.plot(\n",
    "            range(1, len(self.history['generator_loss']) + 1),\n",
    "            self.history['generator_loss'],\n",
    "            label='Генератор', marker='^'\n",
    "        )\n",
    "        plt.plot(\n",
    "            range(1, len(self.history['discriminator_loss']) + 1),\n",
    "            self.history['discriminator_loss'],\n",
    "            label='Дискриминатор', marker='^'\n",
    "        )\n",
    "\n",
    "        plt.xlim([0.5, epochs + 0.5])\n",
    "\n",
    "        plt.xlabel('Эпоха')\n",
    "        plt.ylabel('Ошибка')\n",
    "\n",
    "        plt.legend()\n",
    "\n",
    "        plt.show()\n",
    "        \n",
    "        plt.figure(figsize=(10, 10))\n",
    "        \n",
    "        plt.title('Примеры генерации из тестового шума')\n",
    "        plt.imshow(self.history['images'][-1])\n",
    "        \n",
    "        plt.grid(False)\n",
    "        plt.axis('off')\n",
    "\n",
    "        plt.show()"
   ]
  },
  {
   "cell_type": "code",
   "execution_count": null,
   "metadata": {
    "id": "Fwvg9zHEZoeI"
   },
   "outputs": [],
   "source": [
    "wrapper = Wrapper()"
   ]
  },
  {
   "cell_type": "markdown",
   "metadata": {
    "id": "yhWmwGqTZoeI"
   },
   "source": [
    "# Запуск обучения двух моделей\n",
    "\n",
    "Признак качественно обученных моделей - ошибка обеих моделей выходит на плато + изображения, сгенерированные из тестового шума, становятся всё более похожие на реальные цифры.\n",
    "\n",
    "Подобные результаты можно ждать после 70-100 эпох."
   ]
  },
  {
   "cell_type": "code",
   "execution_count": null,
   "metadata": {
    "id": "xEVoFwt_ZoeJ",
    "scrolled": false
   },
   "outputs": [],
   "source": [
    "wrapper.run()"
   ]
  },
  {
   "cell_type": "code",
   "execution_count": null,
   "metadata": {
    "id": "wiqnxhm6ZoeJ"
   },
   "outputs": [],
   "source": [
    "# тестируем то, как вы написали оболочку и как хорошо вам удалось обучить ваши модели\n",
    "tester.set_email('### YOUR EMAIL ###')\n",
    "tester.set_token('### YOUR TOKEN ###')\n",
    "\n",
    "tester.test03(wrapper)"
   ]
  }
 ],
 "metadata": {
  "colab": {
   "name": "gan_hw.ipynb",
   "provenance": []
  },
  "kernelspec": {
   "display_name": "Python 3 (ipykernel)",
   "language": "python",
   "name": "python3"
  },
  "language_info": {
   "codemirror_mode": {
    "name": "ipython",
    "version": 3
   },
   "file_extension": ".py",
   "mimetype": "text/x-python",
   "name": "python",
   "nbconvert_exporter": "python",
   "pygments_lexer": "ipython3",
   "version": "3.7.11"
  }
 },
 "nbformat": 4,
 "nbformat_minor": 1
}
